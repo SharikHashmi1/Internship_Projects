{
  "cells": [
    {
      "cell_type": "markdown",
      "id": "79f912e3",
      "metadata": {
        "id": "79f912e3"
      },
      "source": [
        "# Car Price Prediction: Data Collection"
      ]
    },
    {
      "cell_type": "markdown",
      "id": "7708d97d",
      "metadata": {
        "id": "7708d97d"
      },
      "source": [
        "# Data Collection Sources:\n",
        "\n",
        "* Cars 24 website -    https://www.cars24.com/\n",
        "\n",
        "* Olx website - https://www.olx.in/"
      ]
    },
    {
      "cell_type": "markdown",
      "id": "a92d904e",
      "metadata": {
        "id": "a92d904e"
      },
      "source": [
        "Required Features:\n",
        "\n",
        "1. Brand\n",
        "2. Variant\n",
        "3. Transmission\n",
        "4. Year of purchase\n",
        "5. Driven kilometers\n",
        "6. Fuel\n",
        "7. Number of Owners\n",
        "8. Location\n",
        "9. Price of the Car\n",
        "\n",
        "Body Type:\n",
        "\n",
        "* Hatchback\n",
        "* Sedan\n",
        "* SUV\n",
        "* Luxury SUV\n",
        "* Luxury Sedan\n",
        "* Mini Van\n",
        "* Coupe\n"
      ]
    },
    {
      "cell_type": "code",
      "execution_count": null,
      "id": "3b5b2a1c",
      "metadata": {
        "id": "3b5b2a1c"
      },
      "outputs": [],
      "source": [
        ""
      ]
    },
    {
      "cell_type": "code",
      "execution_count": null,
      "id": "4f7b41bc",
      "metadata": {
        "id": "4f7b41bc"
      },
      "outputs": [],
      "source": [
        "#importing libraries\n",
        "import pandas as pd\n",
        "import numpy as np\n",
        "import warnings\n",
        "warnings.filterwarnings('ignore')\n",
        "warnings.simplefilter(\"ignore\")\n",
        "\n",
        "import time, sys\n",
        "import tqdm.notebook as tqdm\n",
        "import matplotlib.pyplot as plt\n",
        "import os\n",
        "\n",
        "import requests\n",
        "from bs4 import BeautifulSoup\n",
        "import selenium\n",
        "from selenium import webdriver\n",
        "from urllib.parse import urljoin\n",
        "from selenium.webdriver.common.keys import Keys\n",
        "from selenium.webdriver.common.by import By\n",
        "from selenium.webdriver.support import expected_conditions as ec\n",
        "from selenium.webdriver.support.ui import WebDriverWait\n",
        "from selenium.common.exceptions import TimeoutException, NoSuchElementException, ElementClickInterceptedException, StaleElementReferenceException"
      ]
    },
    {
      "cell_type": "code",
      "execution_count": null,
      "id": "328b37a2",
      "metadata": {
        "id": "328b37a2"
      },
      "outputs": [],
      "source": [
        "url1 = \"https://www.cars24.com/\"\n",
        "url2 = \"https://www.cardekho.com/\"\n",
        "url3 = \"https://www.ola.cars/\"\n",
        "url4 = \"https://www.olx.in/cars_c84\""
      ]
    },
    {
      "cell_type": "code",
      "execution_count": null,
      "id": "7e850a0e",
      "metadata": {
        "id": "7e850a0e",
        "outputId": "755ecd49-d2f7-4800-daec-a536b97c2b4b"
      },
      "outputs": [
        {
          "name": "stdout",
          "output_type": "stream",
          "text": [
            "Legality Response number from Cars 24 URL is: <Response [200]>\n"
          ]
        }
      ],
      "source": [
        "page = requests.get(url1)\n",
        "print(\"Legality Response number from Cars 24 URL is:\", page) # to show the response output from the webpage\n",
        "soup = BeautifulSoup(page.content)"
      ]
    },
    {
      "cell_type": "code",
      "execution_count": null,
      "id": "0947e4be",
      "metadata": {
        "id": "0947e4be"
      },
      "outputs": [],
      "source": [
        "driver = webdriver.Chrome('chromedriver.exe')\n",
        "driver.get(url1)\n",
        "driver.maximize_window()\n",
        "\n",
        "loc=[\"Delhi\", \"Mumbai\", \"Pune\", \"Bangalore\", \"Hyderabad\", \"Chennai\", \"Kolkata\"]\n",
        "\n",
        "for place in loc:\n",
        "    # select location manually option\n",
        "    WebDriverWait(driver,2).until(ec.element_to_be_clickable((By.XPATH,'//div[@class=\"_1OzPP\"]')).click()\n",
        "\n",
        "    # search for location\n",
        "    searchbox = WebDriverWait(driver,2).until(ec.presence_of_element_located((By.XPATH,'//div[@class=\"_6QaMX\"]/input')))\n",
        "    searchbox.send_keys(place)\n",
        "\n",
        "    # confirm click on searched location icon\n",
        "    WebDriverWait(driver,2).until(ec.element_to_be_clickable((By.XPATH,'//ul[@class=\"_16Bvy\"]/li[1]'))).click()\n",
        "\n",
        "    # choose the \"Buy Used Car\" option on the webpage\n",
        "    WebDriverWait(driver,2).until(ec.element_to_be_clickable((By.XPATH,'//a[contains(text(),\"Buy Used Car\")]'))).click()\n",
        "    \n",
        "    scroll_pause_time = 2\n",
        "    screen_height = driver.execute_script(\"return window.screen.height;\")\n",
        "\n",
        "    i = 1\n",
        "    while True:\n",
        "        # scroll one screen height each time\n",
        "        driver.execute_script(\"window.scrollTo(0, {screen_height}*{i});\".format(screen_height=screen_height, i=i))  \n",
        "        i += 1\n",
        "        time.sleep(scroll_pause_time)\n",
        "        # update scroll height each time after scrolled, as the scroll height can change after we scrolled the page\n",
        "        scroll_height = driver.execute_script(\"return document.body.scrollHeight;\")  \n",
        "        # break the loop when the height we need to scroll to is larger than the total scroll height\n",
        "        if (screen_height) * i > scroll_height:\n",
        "            break \n",
        "        \n",
        "    # fetching urls of every used car on the website\n",
        "    urls = []\n",
        "    for i in driver.find_elements_by_xpath(\"//div[@class='col-4']//a\"):\n",
        "        urls.append(i.get_attribute(\"href\"))\n",
        "\n",
        "    for i in driver.find_elements_by_xpath(\"//div[@class='_1l4fi']//a\"):\n",
        "        urls.append(i.get_attribute(\"href\"))\n",
        "\n",
        "    # obtaining the required data in the empty lists\n",
        "    location = []\n",
        "    year = []\n",
        "    kms_driven = []\n",
        "    car_model = []\n",
        "    owners = []\n",
        "    transmission = []\n",
        "    fuel_type = []\n",
        "    price = []"
      ]
    },
    {
      "cell_type": "code",
      "execution_count": null,
      "id": "a2e80682",
      "metadata": {
        "id": "a2e80682"
      },
      "outputs": [],
      "source": [
        "for i in urls:\n",
        "    driver.get(i)\n",
        "    time.sleep(2)\n",
        "    \n",
        "    # fetching location of used cars\n",
        "    try:\n",
        "        location_tag = driver.find_element_by_xpath(\"//p[@class='_2NHUv']//span\")\n",
        "        location.append(location_tag.text)\n",
        "    except NoSuchElementException:\n",
        "        location.append('None')\n",
        "        \n",
        "    # fetching manufacturing year of used cars\n",
        "    try:\n",
        "        year_tag = driver.find_element_by_xpath(\"//strong[@class='category']//span\")\n",
        "        year.append(year_tag.text)\n",
        "    except NoSuchElementException:\n",
        "        year.append('None')\n",
        "        \n",
        "    # fetching number of kms driven of used cars\n",
        "    try:\n",
        "        year_tag = driver.find_element_by_xpath(\"//div[@class='keyword']//span\")\n",
        "        year.append(year_tag.text)\n",
        "    except NoSuchElementException:\n",
        "        year.append('None')\n",
        "        \n",
        "    # fetching model name of used cars\n",
        "    try:\n",
        "        year_tag = driver.find_element_by_xpath(\"//a[@class='_1UhVsV']//span\")\n",
        "        year.append(year_tag.text)\n",
        "    except NoSuchElementException:\n",
        "        year.append('None')\n",
        "        \n",
        "    # fetching owner details of used cars\n",
        "    try:\n",
        "        year_tag = driver.find_element_by_xpath(\"//span[@class='_1FH0tX']//span\")\n",
        "        year.append(year_tag.text)\n",
        "    except NoSuchElementException:\n",
        "        year.append('None')\n",
        "        \n",
        "    # fetching transmission details of used cars\n",
        "    try:\n",
        "        year_tag = driver.find_element_by_xpath(\"//h2[@class='yhB1nd']//span\")\n",
        "        year.append(year_tag.text)\n",
        "    except NoSuchElementException:\n",
        "        year.append('None')\n",
        "        \n",
        "    # fetching fuel type of used cars\n",
        "    try:\n",
        "        year_tag = driver.find_element_by_xpath(\"//div[@class='fMghEO']//span\")\n",
        "        year.append(year_tag.text)\n",
        "    except NoSuchElementException:\n",
        "        year.append('None')\n",
        "        \n",
        "    # fetching price of used cars\n",
        "    try:\n",
        "        year_tag = driver.find_element_by_xpath(\"//p[@class='/html/body/div[1]/div/div[1]/div[1]/div[2]/div[2]/form/div/']//span\")\n",
        "        year.append(year_tag.text)\n",
        "    except NoSuchElementException:\n",
        "        year.append('None')"
      ]
    },
    {
      "cell_type": "code",
      "execution_count": null,
      "id": "d2ad968e",
      "metadata": {
        "id": "d2ad968e"
      },
      "outputs": [],
      "source": [
        "# Creating a dataframe and checking the data extracted\n",
        "cars=pd.DataFrame({'place':location,'model':brand,'year':year,'price':price,'km_driven':km,'owners':owners,\n",
        "                   'fuel':fuel,'transmission':transmission})"
      ]
    },
    {
      "cell_type": "markdown",
      "id": "34a3ccf1",
      "metadata": {
        "id": "34a3ccf1"
      },
      "source": [
        "# Collecting Data from Olx Cars webpage"
      ]
    },
    {
      "cell_type": "code",
      "execution_count": null,
      "id": "f86b8d1b",
      "metadata": {
        "id": "f86b8d1b",
        "outputId": "761f1a39-38a1-4703-d527-98df9329b68e"
      },
      "outputs": [
        {
          "name": "stdout",
          "output_type": "stream",
          "text": [
            "Legality Response number from Olx Cars URL is: <Response [200]>\n"
          ]
        }
      ],
      "source": [
        "headers = {'User-Agent': 'Mozilla/5.0 (Macintosh; Intel Mac OS X 10_11_6) AppleWebKit/537.36 (KHTML, like Gecko) Chrome/95.0.4638.69 Safari/537.36'}\n",
        "page = requests.get(url4, headers=headers)\n",
        "print(\"Legality Response number from Olx Cars URL is:\", page) # to show the response output from the webpage\n",
        "soup = BeautifulSoup(page.content, 'html.parser')"
      ]
    },
    {
      "cell_type": "code",
      "execution_count": null,
      "id": "9ac25f41",
      "metadata": {
        "id": "9ac25f41"
      },
      "outputs": [],
      "source": [
        "driver = webdriver.Chrome('chromedriver.exe')\n",
        "driver.get(url4)\n",
        "driver.maximize_window()\n",
        "\n",
        "# creating empty lists\n",
        "location = []\n",
        "year = []\n",
        "kms_driven = []\n",
        "car_model = []\n",
        "owners = []\n",
        "transmission = []\n",
        "fuel_type = []\n",
        "price = []\n",
        "prod_URL= []\n",
        "\n",
        "# getting the URL of the cars\n",
        "for i in range(0,500):\n",
        "    url=driver.find_elements_by_xpath(\"//ul[@class='rl3f9 _3mXOU']/li/a\")\n",
        "    for i in url:\n",
        "        prod_URL.append(i.get_attribute('href'))\n",
        "    try:\n",
        "        next_btn=driver.find_element_by_xpath(\"//button[@class='rui-39-wj rui-3evoE rui-1JPTg']\").click()\n",
        "    except NoSuchElementException:\n",
        "        pass\n",
        "    \n",
        "for i in prod_URL:\n",
        "    driver.get(i)    \n",
        "\n",
        "    #Extracting car name\n",
        "    try:\n",
        "        brand.append(driver.find_element_by_xpath(\"//div[@class='_3_knn']/div/span[2]\").text)\n",
        "    except NoSuchElementException as e:\n",
        "        brand.append(\"-\")\n",
        "        \n",
        "    #Extracting the year\n",
        "    try:\n",
        "        year.append(driver.find_element_by_xpath(\"//span[@data-aut-id='value_year']\").text)\n",
        "    except NoSuchElementException as e:\n",
        "        year.append(\"-\")\n",
        "        \n",
        "    #Extracting the fuel consumed\n",
        "    try:\n",
        "        fuel.append(driver.find_element_by_xpath(\"//span[@data-aut-id='value_petrol']\").text)\n",
        "    except NoSuchElementException as e:\n",
        "        fuel.append(\"-\")  \n",
        "        \n",
        "    #Extracting the transmission\n",
        "    try:\n",
        "        transmission.append(driver.find_element_by_xpath(\"//span[@data-aut-id='value_transmission']\").text)\n",
        "    except NoSuchElementException as e:\n",
        "        transmission.append(\"-\") \n",
        "        \n",
        "    #Extracting km driven\n",
        "    try:\n",
        "        km.append(driver.find_element_by_xpath(\"//span[@data-aut-id='value_mileage']\").text)\n",
        "    except NoSuchElementException as e:\n",
        "        km.append(\"-\") \n",
        "        \n",
        "    #Extracting the price details\n",
        "    try:\n",
        "        price.append(driver.find_element_by_xpath(\"//span[@data-aut-id='itemPrice']\").text.replace('₹',''))\n",
        "    except NoSuchElementException as e:\n",
        "        price.append(\"-\")"
      ]
    },
    {
      "cell_type": "code",
      "execution_count": null,
      "id": "2ffa4617",
      "metadata": {
        "id": "2ffa4617"
      },
      "outputs": [],
      "source": [
        "# Creating a dataframe and checking the data extracted\n",
        "cars=pd.DataFrame({'place':location,'model':car_model,'year':year,'price':price,'kms_driven':kms_driven,'owners':owners,\n",
        "                   'fuel':fuel_type,'transmission':transmission})"
      ]
    },
    {
      "cell_type": "code",
      "execution_count": null,
      "id": "e986f3fc",
      "metadata": {
        "id": "e986f3fc"
      },
      "outputs": [],
      "source": [
        "cars.to_csv(\"Used_Car_Data.csv\")"
      ]
    },
    {
      "cell_type": "code",
      "execution_count": null,
      "id": "213b6db6",
      "metadata": {
        "id": "213b6db6"
      },
      "outputs": [],
      "source": [
        ""
      ]
    }
  ],
  "metadata": {
    "kernelspec": {
      "display_name": "Python 3 (ipykernel)",
      "language": "python",
      "name": "python3"
    },
    "language_info": {
      "codemirror_mode": {
        "name": "ipython",
        "version": 3
      },
      "file_extension": ".py",
      "mimetype": "text/x-python",
      "name": "python",
      "nbconvert_exporter": "python",
      "pygments_lexer": "ipython3",
      "version": "3.9.7"
    },
    "colab": {
      "name": "Car Price Prediction Script.ipynb",
      "provenance": []
    }
  },
  "nbformat": 4,
  "nbformat_minor": 5
}